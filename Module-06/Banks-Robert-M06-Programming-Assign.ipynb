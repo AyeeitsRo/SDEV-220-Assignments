{
 "cells": [
  {
   "cell_type": "markdown",
   "metadata": {},
   "source": [
    "# Module 06 - Programming Assignment\n",
    "\n",
    "*Table of Contents*\n",
    "\n",
    "- [13.1](#131---write-the-current-date-time-as-a-string-to-the-text-file-todaytxt)\n",
    "- [13.2](#132---read-the-date-time-from-file)\n",
    "- [13.3](#133---parse-the-date-from-today_string)\n",
    "- [15.2](#151---use-multiprocessing-to-create-three-separate-processes-make-each-one-wait-a-random-number-of-seconds-between-zero-and-one-print-the-current-time-and-then-exit)"
   ]
  },
  {
   "cell_type": "markdown",
   "metadata": {},
   "source": [
    "## 13.1 - Write the current date time as a string to the text file *today.txt*"
   ]
  },
  {
   "cell_type": "code",
   "execution_count": 1,
   "metadata": {},
   "outputs": [
    {
     "name": "stdout",
     "output_type": "stream",
     "text": [
      "2025-02-19 18:38:47.521417\n"
     ]
    }
   ],
   "source": [
    "import datetime\n",
    "f = open(\"today.txt\", \"a\")\n",
    "time_now: datetime = datetime.datetime.now()\n",
    "str_time_now: str = str(time_now)\n",
    "f.write(str_time_now)\n",
    "print(str_time_now)\n",
    "f.close()"
   ]
  },
  {
   "cell_type": "markdown",
   "metadata": {},
   "source": [
    "## 13.2 - Read the date time from file"
   ]
  },
  {
   "cell_type": "code",
   "execution_count": 2,
   "metadata": {},
   "outputs": [
    {
     "name": "stdout",
     "output_type": "stream",
     "text": [
      "2025-02-17 18:44:03.2479112025-02-19 18:38:47.521417\n"
     ]
    }
   ],
   "source": [
    "f = open(\"today.txt\", \"r\")\n",
    "today_string: str = f.read()\n",
    "print(today_string)\n",
    "f.close()"
   ]
  },
  {
   "cell_type": "markdown",
   "metadata": {},
   "source": [
    "## 13.3 - Parse the date from today_string"
   ]
  },
  {
   "cell_type": "code",
   "execution_count": 3,
   "metadata": {},
   "outputs": [
    {
     "name": "stdout",
     "output_type": "stream",
     "text": [
      "Year:2025 Month:02 Day:19\n",
      "Hour:18 Minutes:38 Seconds:47 Milliseconds:521417\n"
     ]
    }
   ],
   "source": [
    "import re\n",
    "today_string = str_time_now\n",
    "\n",
    "\n",
    "re_matches = re.match(r'^(\\d{4})\\-(\\d{2})\\-(\\d{2}) (\\d{2})\\:(\\d{2})\\:(\\d{2})\\.(\\d+)$', today_string)\n",
    "matches: tuple = re_matches.groups()\n",
    "print(f'Year:{matches[0]} Month:{matches[1]} Day:{matches[2]}\\nHour:{matches[3]} Minutes:{matches[4]} Seconds:{matches[5]} Milliseconds:{matches[6]}')"
   ]
  },
  {
   "cell_type": "markdown",
   "metadata": {},
   "source": [
    "## 15.1 - Use multiprocessing to create three separate processes. Make each one wait a random number of seconds between zero and one, print the current time, and then exit."
   ]
  },
  {
   "cell_type": "code",
   "execution_count": 4,
   "metadata": {},
   "outputs": [
    {
     "name": "stdout",
     "output_type": "stream",
     "text": [
      "2025-02-19 18:38:47.895249\n",
      "2025-02-19 18:38:48.173974\n",
      "2025-02-19 18:38:48.617418\n"
     ]
    }
   ],
   "source": [
    "# This code does not output the correct print statements from the mp_demo function within\n",
    "# the jupyter notebook, it will output correctly from a stand-alone Python file\n",
    "\n",
    "from os import getpid\n",
    "import multiprocessing as mp\n",
    "import random\n",
    "from datetime import datetime\n",
    "from time import sleep\n",
    "\n",
    "def mp_demo(proc_num):\n",
    "    print('process id:', getpid(), '. in process', proc_num)\n",
    "\n",
    "for i in range(0, 3):\n",
    "    num_seconds: float = random.random()\n",
    "    p = mp.Process(target=mp_demo, args=(i,))\n",
    "    p.start()\n",
    "    p.join()\n",
    "    sleep(num_seconds)\n",
    "    print(datetime.now())"
   ]
  }
 ],
 "metadata": {
  "kernelspec": {
   "display_name": "Python 3",
   "language": "python",
   "name": "python3"
  },
  "language_info": {
   "codemirror_mode": {
    "name": "ipython",
    "version": 3
   },
   "file_extension": ".py",
   "mimetype": "text/x-python",
   "name": "python",
   "nbconvert_exporter": "python",
   "pygments_lexer": "ipython3",
   "version": "3.13.0"
  }
 },
 "nbformat": 4,
 "nbformat_minor": 2
}
