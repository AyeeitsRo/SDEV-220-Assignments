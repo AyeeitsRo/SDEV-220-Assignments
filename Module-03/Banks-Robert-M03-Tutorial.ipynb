{
 "cells": [
  {
   "cell_type": "markdown",
   "metadata": {},
   "source": [
    "# M03 - Functional vs. OOP Programming\n",
    ">*Banks-Robert-M03-Tutorial.ipynb*\n"
   ]
  },
  {
   "cell_type": "markdown",
   "metadata": {},
   "source": [
    "## OOP Programming "
   ]
  },
  {
   "cell_type": "code",
   "execution_count": 1,
   "metadata": {},
   "outputs": [
    {
     "name": "stdout",
     "output_type": "stream",
     "text": [
      "[0, 0, 0, 1, 1, 1, 2, 2, 2, 2]\n"
     ]
    }
   ],
   "source": [
    "array: list = [0, 1, 2, 0, 1, 2, 2, 2, 1, 0] # Array containing scrambled numbers\n",
    "\n",
    "\"\"\"Nested loops used to sort the array\"\"\"\n",
    "for x in range(0, len(array)):\n",
    "    for y in range(x + 1, len(array)):\n",
    "        if array[x] >= array[y]:\n",
    "            hold: int = array[x] # Temporary holding variable\n",
    "            array[x] = array[y]\n",
    "            array[y] = hold\n",
    "\n",
    "print(array)"
   ]
  },
  {
   "cell_type": "markdown",
   "metadata": {},
   "source": [
    "## Functional Programming"
   ]
  },
  {
   "cell_type": "code",
   "execution_count": 17,
   "metadata": {},
   "outputs": [
    {
     "name": "stdout",
     "output_type": "stream",
     "text": [
      "2 appears at index 6\n"
     ]
    }
   ],
   "source": [
    "k: int = 2\n",
    "array: list = [0, 0, 0, 1, 1, 1, 2, 2, 2, 2]\n",
    "\n",
    "def search(array, k):\n",
    "    \"\"\"Function used to search for index position of an element in a list\"\"\"\n",
    "    low: int = 0\n",
    "    high: int = len(array) - 1\n",
    "    mid: int = 0\n",
    "    position: int = -1\n",
    "    \n",
    "    while low <= high:\n",
    "        mid = (high + low) // 2\n",
    "        \n",
    "        if array[mid] < k:\n",
    "            low = mid + 1\n",
    "        elif array[mid] > k:\n",
    "            high = mid - 1\n",
    "        else:\n",
    "            position = mid\n",
    "            high = mid - 1\n",
    "    return position\n",
    "    \n",
    "position: int = search(array, k)\n",
    "if position != -1:\n",
    "    print(f'{k} appears at index {position}')\n",
    "else:\n",
    "    print(f'{k} does not appear in the array')\n",
    "        \n"
   ]
  }
 ],
 "metadata": {
  "kernelspec": {
   "display_name": "Python 3",
   "language": "python",
   "name": "python3"
  },
  "language_info": {
   "codemirror_mode": {
    "name": "ipython",
    "version": 3
   },
   "file_extension": ".py",
   "mimetype": "text/x-python",
   "name": "python",
   "nbconvert_exporter": "python",
   "pygments_lexer": "ipython3",
   "version": "3.13.0"
  }
 },
 "nbformat": 4,
 "nbformat_minor": 2
}
