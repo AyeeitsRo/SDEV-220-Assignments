{
 "cells": [
  {
   "cell_type": "markdown",
   "metadata": {},
   "source": [
    "# Classes Practice\n",
    "\n"
   ]
  },
  {
   "cell_type": "code",
   "execution_count": 5,
   "metadata": {},
   "outputs": [],
   "source": [
    "class Cat:\n",
    "    def __init__(self, age: float, name: str) -> None: # Function that initializes your object\n",
    "        self.age: float = age\n",
    "        self.name: str = name\n",
    "        \n",
    "    def meow_sound(self) -> str:\n",
    "        sound: str = 'meow'\n",
    "        \n",
    "        return sound\n",
    "\n",
    "class Calico(Cat):\n",
    "    def __init__(self, age, name, numToes: int) -> None:\n",
    "        super().__init__(age, name)\n",
    "        self.numToes: int = numToes\n",
    "        \n",
    "    def meow_sound(self) -> str:\n",
    "        return super().meow_sound()\n",
    "\n",
    "a = Cat(age = 1.5, name = 'Johnny')\n",
    "b = Calico(age = 1.5, name = 'Barney', numToes = 5)"
   ]
  },
  {
   "cell_type": "code",
   "execution_count": 4,
   "metadata": {},
   "outputs": [
    {
     "name": "stdout",
     "output_type": "stream",
     "text": [
      "Barney\n"
     ]
    }
   ],
   "source": [
    "print(b.name)"
   ]
  },
  {
   "cell_type": "code",
   "execution_count": 19,
   "metadata": {},
   "outputs": [
    {
     "name": "stdout",
     "output_type": "stream",
     "text": [
      "Age: 1 ; length: 5\n"
     ]
    }
   ],
   "source": [
    "from dataclasses import dataclass\n",
    "\n",
    "@dataclass\n",
    "class Frog():\n",
    "    age: int \n",
    "    length: int\n",
    "    \n",
    "\n",
    "f = Frog(age = 1, length = 5)\n",
    "f2 = Frog(age = 2, length = 4)\n",
    "f2.age = 2\n",
    "\n",
    "print('Age:', f.age, ';', 'length:', f.length)"
   ]
  },
  {
   "cell_type": "code",
   "execution_count": null,
   "metadata": {},
   "outputs": [],
   "source": []
  }
 ],
 "metadata": {
  "kernelspec": {
   "display_name": "Python 3",
   "language": "python",
   "name": "python3"
  },
  "language_info": {
   "codemirror_mode": {
    "name": "ipython",
    "version": 3
   },
   "file_extension": ".py",
   "mimetype": "text/x-python",
   "name": "python",
   "nbconvert_exporter": "python",
   "pygments_lexer": "ipython3",
   "version": "3.13.0"
  }
 },
 "nbformat": 4,
 "nbformat_minor": 2
}
